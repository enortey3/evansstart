{
 "cells": [
  {
   "cell_type": "markdown",
   "id": "a16043af-8e68-4afc-8601-091af88e3ed7",
   "metadata": {},
   "source": [
    "# Data Science Ecosysytem\n"
   ]
  },
  {
   "cell_type": "markdown",
   "id": "d48a64d9-d164-4dd5-bdcc-753c826c6c56",
   "metadata": {},
   "source": [
    "In this notbeook, Data Science Tools and Ecosystem are summarized"
   ]
  },
  {
   "cell_type": "markdown",
   "id": "6f0128fe-063e-4559-9a80-107a5de2c623",
   "metadata": {},
   "source": [
    "**Objectives:**\n",
    "\n",
    "- How to create a notebook in JupyterLab\n",
    "- How to downoload your Notebook\n",
    "- How to create a table in Jypyter Notebook\n",
    "- Performing Arithmetic in Jupyter Notebook"
   ]
  },
  {
   "cell_type": "markdown",
   "id": "e7a7cebf-178e-40aa-85df-d7b1cdb174b4",
   "metadata": {},
   "source": [
    "Some of the popular languages that Data Scientist use are:\n",
    "1. Python\n",
    "2. R\n",
    "3. Julia\n",
    "4. SQL\n",
    "5. Java"
   ]
  },
  {
   "cell_type": "markdown",
   "id": "f4d01eba-0270-440e-acc7-040651111587",
   "metadata": {},
   "source": [
    "Some of the commonly used libraries used by Data Scientists include:\n",
    "\n",
    "1. PyTorch\n",
    "2. ggplot\n",
    "3. caret\n",
    "4. dplyr\n",
    "5. NumPy\n",
    "   "
   ]
  },
  {
   "cell_type": "markdown",
   "id": "7346dedf-ba70-4eaf-a75a-574285c122ee",
   "metadata": {},
   "source": [
    "|Data Science Tools|\n",
    "--------------------\n",
    "|Jupyter Notebook|\n",
    "|R|\n",
    "|Python|\n"
   ]
  },
  {
   "cell_type": "markdown",
   "id": "ce097038-87e2-49b8-8aa1-323e08759f16",
   "metadata": {},
   "source": [
    "### Below are a few examples of evaluating arithmetic expressions in Python"
   ]
  },
  {
   "cell_type": "code",
   "execution_count": 17,
   "id": "aeaecf9c-8b38-410c-aed7-1dad7ad8d447",
   "metadata": {},
   "outputs": [
    {
     "data": {
      "text/plain": [
       "17"
      ]
     },
     "execution_count": 17,
     "metadata": {},
     "output_type": "execute_result"
    }
   ],
   "source": [
    "#This a simple arithmetic expression to mutiply then add integers\n",
    "(3*4)+5"
   ]
  },
  {
   "cell_type": "code",
   "execution_count": 23,
   "id": "9df6f22f-c58f-4121-80f9-57bef0c16fd2",
   "metadata": {},
   "outputs": [
    {
     "name": "stdout",
     "output_type": "stream",
     "text": [
      "3.3333333333333335 hours\n"
     ]
    }
   ],
   "source": [
    "# This will convert 200 minutes to hours by diving by 60\n",
    "result=200/60\n",
    "\n",
    "print(result, 'hours')"
   ]
  },
  {
   "cell_type": "markdown",
   "id": "4db68e77-f7d5-41a1-9930-bf4aa4fbe8b6",
   "metadata": {},
   "source": [
    "## Author\n",
    "Evans Nortey"
   ]
  },
  {
   "cell_type": "code",
   "execution_count": null,
   "id": "d7e380b9-7834-4275-a527-73ebad124401",
   "metadata": {},
   "outputs": [],
   "source": []
  }
 ],
 "metadata": {
  "kernelspec": {
   "display_name": "Python 3 (ipykernel)",
   "language": "python",
   "name": "python3"
  },
  "language_info": {
   "codemirror_mode": {
    "name": "ipython",
    "version": 3
   },
   "file_extension": ".py",
   "mimetype": "text/x-python",
   "name": "python",
   "nbconvert_exporter": "python",
   "pygments_lexer": "ipython3",
   "version": "3.12.4"
  }
 },
 "nbformat": 4,
 "nbformat_minor": 5
}
